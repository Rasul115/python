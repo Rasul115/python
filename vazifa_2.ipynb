{
 "cells": [
  {
   "cell_type": "code",
   "execution_count": 3,
   "id": "c92dfdaf",
   "metadata": {},
   "outputs": [
    {
     "name": "stdout",
     "output_type": "stream",
     "text": [
      "36\n"
     ]
    }
   ],
   "source": [
    "def my_list(items):\n",
    "    tot = 1\n",
    "    for x in items:\n",
    "        tot *= x\n",
    "    return tot\n",
    "print(my_list([2,3,6]))\n"
   ]
  },
  {
   "cell_type": "code",
   "execution_count": 2,
   "id": "7405c0e4",
   "metadata": {},
   "outputs": [
    {
     "name": "stdout",
     "output_type": "stream",
     "text": [
      "[(2, 1), (1, 2), (2, 3), (4, 4), (2, 5)]\n"
     ]
    }
   ],
   "source": [
    "def last(n): return n[-1]\n",
    "\n",
    "def sort_list_last(tuples):\n",
    "  return sorted(tuples, key=last)\n",
    "\n",
    "print(sort_list_last([(2, 5), (1, 2), (4, 4), (2, 3), (2, 1)]))"
   ]
  },
  {
   "cell_type": "code",
   "execution_count": 5,
   "id": "0786ff76",
   "metadata": {},
   "outputs": [
    {
     "name": "stdout",
     "output_type": "stream",
     "text": [
      "{'a': 400, 'b': 400, 'd': 400}\n"
     ]
    }
   ],
   "source": [
    "d1 = {'a': 100,'b':200,\"c\":300}\n",
    "d2 = {'a': 300, 'b': 200, 'd': 400}\n",
    " \n",
    "d3 = dict(d1)\n",
    "d3.update(d2)\n",
    "for i,j in d1.items():\n",
    "    for k,h in d2.items():\n",
    "        \n",
    "        if i ==k:\n",
    "            d3[i] = j+ h\n",
    "print(d3)\n",
    "\n",
    "    "
   ]
  },
  {
   "cell_type": "code",
   "execution_count": null,
   "id": "101c3b8d",
   "metadata": {},
   "outputs": [],
   "source": [
    "o = [('item1', '12.20'), ('item2', '15.10'), ('item3', '24.5')]\n",
    "def second_element(t):\n",
    "    return float(t[1])\n",
    "o.sort(key = second_element)\n",
    "\n",
    "o"
   ]
  },
  {
   "cell_type": "code",
   "execution_count": null,
   "id": "b0409c3d",
   "metadata": {},
   "outputs": [],
   "source": [
    "x =int(input(\"Enter a nomber\"))\n",
    "\n",
    "d = {}\n",
    "\n",
    "for i in range(1,x+1):\n",
    "    d[i]= i*i\n",
    "print(d)"
   ]
  }
 ],
 "metadata": {
  "kernelspec": {
   "display_name": "Python 3 (ipykernel)",
   "language": "python",
   "name": "python3"
  },
  "language_info": {
   "codemirror_mode": {
    "name": "ipython",
    "version": 3
   },
   "file_extension": ".py",
   "mimetype": "text/x-python",
   "name": "python",
   "nbconvert_exporter": "python",
   "pygments_lexer": "ipython3",
   "version": "3.9.13"
  }
 },
 "nbformat": 4,
 "nbformat_minor": 5
}
