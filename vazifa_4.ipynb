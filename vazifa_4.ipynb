{
 "cells": [
  {
   "cell_type": "code",
   "execution_count": 3,
   "id": "003743e2",
   "metadata": {},
   "outputs": [
    {
     "name": "stdout",
     "output_type": "stream",
     "text": [
      "(1, 2, 3)\n"
     ]
    }
   ],
   "source": [
    "class point3D():\n",
    "    def __init__(self,x,y,z):\n",
    "        self.x=x\n",
    "        self.y=y\n",
    "        self.z=z\n",
    "    def mpoint(self):\n",
    "        return self.x,self.y,self.z\n",
    "my_point = point3D(1,2,3)\n",
    "\n",
    "print(my_point.mpoint())\n"
   ]
  },
  {
   "cell_type": "code",
   "execution_count": 26,
   "id": "678770d3",
   "metadata": {},
   "outputs": [
    {
     "name": "stdout",
     "output_type": "stream",
     "text": [
      "12\n",
      "14\n"
     ]
    }
   ],
   "source": [
    "class Rectangle():\n",
    "    def __init__(self, l, w):\n",
    "        self.length = l\n",
    "        self.width  = w\n",
    "\n",
    "    def area(self):\n",
    "        return self.length*self.width\n",
    "    \n",
    "    def perimeter(self):\n",
    "        return 2*self.width+2*self.length\n",
    "        \n",
    "my_rectangle = Rectangle(3, 4)\n",
    "print(my_rectangle.area())\n",
    "print(my_rectangle.perimeter())\n",
    "\n",
    "\n"
   ]
  },
  {
   "cell_type": "code",
   "execution_count": 25,
   "id": "1aaa2929",
   "metadata": {},
   "outputs": [
    {
     "name": "stdout",
     "output_type": "stream",
     "text": [
      "78.5\n",
      "31.400000000000002\n"
     ]
    }
   ],
   "source": [
    "class Circle():\n",
    "    def __init__(self,r):\n",
    "        self.radius = r\n",
    "    def area(self):\n",
    "        return self.radius**2*3.14\n",
    "    def perimeter (self):\n",
    "        return 2*self.radius*3.14\n",
    "    \n",
    "NewCircle = Circle(5)\n",
    "print(NewCircle.area())\n",
    "print(NewCircle.perimeter())"
   ]
  },
  {
   "cell_type": "code",
   "execution_count": 10,
   "id": "67a363d7",
   "metadata": {},
   "outputs": [
    {
     "name": "stdout",
     "output_type": "stream",
     "text": [
      "Enter amount to be deposited: 600\n",
      "Amount Deposited:  600.0\n",
      "Enter amount to be withdrawed: 100\n",
      "Amount withdrawed:  100.0\n",
      "your balance is :  5500.0\n"
     ]
    }
   ],
   "source": [
    "class Bank_Account:\n",
    "     def __init__(self,balance):\n",
    "            self.balance=balance\n",
    "    \n",
    "     def deposit(self):\n",
    "        amount=float(input(\"Enter amount to be deposited: \"))\n",
    "        self.balance += amount\n",
    "        print(\"Amount Deposited: \",amount)   \n",
    "     def withdraw(self):\n",
    "        amount=float(input(\"Enter amount to be withdrawed: \"))\n",
    "        self.balance -= amount\n",
    "        print(\"Amount withdrawed: \",amount)  \n",
    "     def check(self):\n",
    "        print(\"your balance is : \",self.balance)\n",
    "        \n",
    "rasul = Bank_Account(5000)\n",
    "ahmed = Bank_Account(4000)\n",
    "\n",
    "rasul.deposit()\n",
    "rasul.withdraw()\n",
    "rasul.check()"
   ]
  },
  {
   "cell_type": "code",
   "execution_count": null,
   "id": "018fc3f4",
   "metadata": {},
   "outputs": [],
   "source": []
  }
 ],
 "metadata": {
  "kernelspec": {
   "display_name": "Python 3 (ipykernel)",
   "language": "python",
   "name": "python3"
  },
  "language_info": {
   "codemirror_mode": {
    "name": "ipython",
    "version": 3
   },
   "file_extension": ".py",
   "mimetype": "text/x-python",
   "name": "python",
   "nbconvert_exporter": "python",
   "pygments_lexer": "ipython3",
   "version": "3.9.13"
  }
 },
 "nbformat": 4,
 "nbformat_minor": 5
}
