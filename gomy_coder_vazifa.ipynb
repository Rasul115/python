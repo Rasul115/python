{
 "cells": [
  {
   "cell_type": "code",
   "execution_count": 1,
   "id": "53e91a02",
   "metadata": {},
   "outputs": [
    {
     "name": "stdout",
     "output_type": "stream",
     "text": [
      "Enter your name:  ahmed\n",
      "Enter your last name:  diaa\n",
      "Your last name  Diaa\n",
      "Your name Ahmed \n"
     ]
    }
   ],
   "source": [
    "#Question_1\n",
    "ism =input(\"Enter your name:  \").title()\n",
    "fam =input(\"Enter your last name:  \").title()\n",
    "print(f\"Your last name  {fam}\\nYour name {ism} \")\n"
   ]
  },
  {
   "cell_type": "code",
   "execution_count": 14,
   "id": "991b6aeb",
   "metadata": {},
   "outputs": [
    {
     "name": "stdout",
     "output_type": "stream",
     "text": [
      "Enter any intege:  5\n",
      "615\n"
     ]
    }
   ],
   "source": [
    "#Question_2\n",
    "n =(input(\"Enter any intege:  \"))\n",
    "b = n+n\n",
    "c = b+n\n",
    "print(int(n)+int(b)+int(c))"
   ]
  },
  {
   "cell_type": "code",
   "execution_count": 3,
   "id": "ac2a21b8",
   "metadata": {},
   "outputs": [
    {
     "name": "stdout",
     "output_type": "stream",
     "text": [
      "Enter any nomber: 5\n",
      "It is an odd nomber\n"
     ]
    }
   ],
   "source": [
    "#Question_3\n",
    "son = int(input(\"Enter any nomber: \"))\n",
    "\n",
    "if son%2==0:\n",
    "    print(\"This an even nomber\")\n",
    "else:  \n",
    "    print(\"It is an odd nomber\")"
   ]
  },
  {
   "cell_type": "code",
   "execution_count": 5,
   "id": "861d9f18",
   "metadata": {},
   "outputs": [
    {
     "name": "stdout",
     "output_type": "stream",
     "text": [
      "2002,2009,2016,2023,2037,2044,2051,2058,2072,2079,2086,2093,2107,2114,2121,2128,2142,2149,2156,2163,2177,2184,2191,2198,2212,2219,2226,2233,2247,2254,2261,2268,2282,2289,2296,2303,2317,2324,2331,2338,2352,2359,2366,2373,2387,2394,2401,2408,2422,2429,2436,2443,2457,2464,2471,2478,2492,2499,2506,2513,2527,2534,2541,2548,2562,2569,2576,2583,2597,2604,2611,2618,2632,2639,2646,2653,2667,2674,2681,2688,2702,2709,2716,2723,2737,2744,2751,2758,2772,2779,2786,2793,2807,2814,2821,2828,2842,2849,2856,2863,2877,2884,2891,2898,2912,2919,2926,2933,2947,2954,2961,2968,2982,2989,2996,3003,3017,3024,3031,3038,3052,3059,3066,3073,3087,3094,3101,3108,3122,3129,3136,3143,3157,3164,3171,3178,3192,3199,"
     ]
    }
   ],
   "source": [
    "#Questiuon_4\n",
    "for a in range(2000,3200):\n",
    "    if a%7==0 and a%5!=0:\n",
    "        print(a,end=\",\")"
   ]
  },
  {
   "cell_type": "code",
   "execution_count": 7,
   "id": "9b4f1164",
   "metadata": {},
   "outputs": [
    {
     "name": "stdout",
     "output_type": "stream",
     "text": [
      "120\n"
     ]
    }
   ],
   "source": [
    "#Question_5\n",
    "import math\n",
    "\n",
    "def factorial(n):\n",
    "   \n",
    "    \n",
    "   factorial= 1\n",
    "    \n",
    "   for i in range(n):\n",
    "            \n",
    "       factorial*=i+1\n",
    "        \n",
    "        \n",
    "       return factorial\n",
    "                 \n",
    "print(math.factorial(5))\n"
   ]
  },
  {
   "cell_type": "code",
   "execution_count": 9,
   "id": "6900153f",
   "metadata": {},
   "outputs": [
    {
     "name": "stdout",
     "output_type": "stream",
     "text": [
      "Enter Sale Amout: 400\n",
      "Discound :   120.0\n",
      "Net Pay  :  280.0\n"
     ]
    }
   ],
   "source": [
    "#Question_6\n",
    "amt =int(input(\"Enter Sale Amout: \"))\n",
    "if amt>0:\n",
    "   if amt>=500:\n",
    "       disc =amt*0.5\n",
    "   elif amt>=200 or amt>500:\n",
    "       disc =amt*0.3\n",
    "   elif amt<200:\n",
    "    disc =amt*0.1\n",
    "   print(\"Discound :  \",disc)\n",
    "   print(\"Net Pay  : \",amt-disc)\n",
    "    "
   ]
  },
  {
   "cell_type": "code",
   "execution_count": 11,
   "id": "7f357306",
   "metadata": {},
   "outputs": [
    {
     "name": "stdout",
     "output_type": "stream",
     "text": [
      "h l o t a "
     ]
    }
   ],
   "source": [
    "#Question_7\n",
    "y = \"hello team\"\n",
    "for i in range(len(y)):\n",
    "    if i % 2 ==0:\n",
    "        print(y[i],end=\" \")"
   ]
  },
  {
   "cell_type": "code",
   "execution_count": null,
   "id": "e7b93771",
   "metadata": {},
   "outputs": [],
   "source": []
  }
 ],
 "metadata": {
  "kernelspec": {
   "display_name": "Python 3 (ipykernel)",
   "language": "python",
   "name": "python3"
  },
  "language_info": {
   "codemirror_mode": {
    "name": "ipython",
    "version": 3
   },
   "file_extension": ".py",
   "mimetype": "text/x-python",
   "name": "python",
   "nbconvert_exporter": "python",
   "pygments_lexer": "ipython3",
   "version": "3.9.13"
  }
 },
 "nbformat": 4,
 "nbformat_minor": 5
}
