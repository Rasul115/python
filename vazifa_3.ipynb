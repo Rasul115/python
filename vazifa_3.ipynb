{
 "cells": [
  {
   "cell_type": "code",
   "execution_count": 22,
   "id": "b36fa409",
   "metadata": {},
   "outputs": [
    {
     "name": "stdout",
     "output_type": "stream",
     "text": [
      "Enter a nomber5\n",
      "Enter b nomber6\n",
      "Enter c nomber7\n",
      "Max nomber = \n",
      "7\n"
     ]
    }
   ],
   "source": [
    "a = int(input(\"Enter a nomber\"))\n",
    "b = int(input(\"Enter b nomber\"))\n",
    "c = int(input(\"Enter c nomber\"))\n",
    "print(\"Max nomber = \")\n",
    "if b < a > c :\n",
    "    print (a)\n",
    "elif a <= b >= c:\n",
    "    print(b)\n",
    "else :\n",
    "    print(c)\n"
   ]
  },
  {
   "cell_type": "code",
   "execution_count": null,
   "id": "871380e0",
   "metadata": {},
   "outputs": [],
   "source": [
    "def hisob(nom1,nom2):\n",
    "    print(nom1+nom2)\n",
    "    print(nom1-nom2)\n",
    "    return\n",
    "nom1 = int(input(\"First nomber\"))\n",
    "nom2 = int(input(\"Second nomber\"))\n",
    "\n",
    "print(\"This answer is  \")\n",
    "\n",
    "hisob(nom1,nom2)\n"
   ]
  },
  {
   "cell_type": "code",
   "execution_count": 10,
   "id": "9dac2266",
   "metadata": {},
   "outputs": [
    {
     "name": "stdout",
     "output_type": "stream",
     "text": [
      "Gusht\n",
      "Non\n",
      "Apple\n",
      "Suv\n",
      "Choy\n"
     ]
    }
   ],
   "source": [
    "words ={\"meat\":\"gusht\",\"bread\":\"non\",\"olma\":\"apple\",\"water\":\"suv\",\"tea\":\"choy\"}\n",
    "for a in words.values():\n",
    "    print(a.title())\n",
    "     \n",
    "\n"
   ]
  },
  {
   "cell_type": "code",
   "execution_count": 13,
   "id": "71d37c99",
   "metadata": {},
   "outputs": [
    {
     "name": "stdout",
     "output_type": "stream",
     "text": [
      "abdulaziz\n"
     ]
    }
   ],
   "source": [
    "dic = {\"1\":\"rasuljon\",\"2\":\"abdulaziz\",\"3\":\"samer\"}\n",
    "\n",
    "\n",
    "print(max(dic.values(),key=len))\n"
   ]
  },
  {
   "cell_type": "code",
   "execution_count": 19,
   "id": "248891a0",
   "metadata": {},
   "outputs": [
    {
     "name": "stdout",
     "output_type": "stream",
     "text": [
      "['black', 'green', 'red', 'white', 'yellow']\n"
     ]
    }
   ],
   "source": [
    "a = [\"green\",\"red\",\"yellow\",\"black\",\"white\"]\n",
    "a.sort()\n",
    "print(a)\n",
    "\n"
   ]
  },
  {
   "cell_type": "code",
   "execution_count": null,
   "id": "9c56b164",
   "metadata": {},
   "outputs": [],
   "source": [
    "def summ(o):\n",
    "    result = 0\n",
    "    for i in range(0,len(o),2):\n",
    "        result +=o[i]\n",
    "    return result\n",
    "\n",
    "def multi(o):\n",
    "    result = 1\n",
    "    for i in range(1,len(o),2):\n",
    "        result *= i\n",
    "    return result\n",
    "x = [4,5,6,3,6,7,8,0,9]\n",
    "print(sum(x))\n",
    "print(multi(x))\n"
   ]
  },
  {
   "cell_type": "code",
   "execution_count": null,
   "id": "95ab1f5d",
   "metadata": {},
   "outputs": [],
   "source": [
    "def sqrr(entry):\n",
    "    value =[]\n",
    "    for i in entry:\n",
    "        k  = (2*50*int(i)/30)**0.5\n",
    "        value.append(int(k))\n",
    "    return(value)\n",
    "x = input(\"enter \")\n",
    "x = x.split(',')\n",
    "print(sqrr(x))\n"
   ]
  }
 ],
 "metadata": {
  "kernelspec": {
   "display_name": "Python 3 (ipykernel)",
   "language": "python",
   "name": "python3"
  },
  "language_info": {
   "codemirror_mode": {
    "name": "ipython",
    "version": 3
   },
   "file_extension": ".py",
   "mimetype": "text/x-python",
   "name": "python",
   "nbconvert_exporter": "python",
   "pygments_lexer": "ipython3",
   "version": "3.9.13"
  }
 },
 "nbformat": 4,
 "nbformat_minor": 5
}
